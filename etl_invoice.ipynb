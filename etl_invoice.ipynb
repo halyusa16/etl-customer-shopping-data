{
  "nbformat": 4,
  "nbformat_minor": 0,
  "metadata": {
    "colab": {
      "provenance": [],
      "authorship_tag": "ABX9TyPD/JLfzLA0m4wzIEMWFOKv",
      "include_colab_link": true
    },
    "kernelspec": {
      "name": "python3",
      "display_name": "Python 3"
    },
    "language_info": {
      "name": "python"
    }
  },
  "cells": [
    {
      "cell_type": "markdown",
      "metadata": {
        "id": "view-in-github",
        "colab_type": "text"
      },
      "source": [
        "<a href=\"https://colab.research.google.com/github/halyusa16/etl-customer-shopping-data/blob/main/etl_invoice.ipynb\" target=\"_parent\"><img src=\"https://colab.research.google.com/assets/colab-badge.svg\" alt=\"Open In Colab\"/></a>"
      ]
    },
    {
      "cell_type": "code",
      "execution_count": 52,
      "metadata": {
        "id": "VsPR9nK_qt4c"
      },
      "outputs": [],
      "source": [
        "from google.oauth2 import service_account\n",
        "from google.auth.transport.requests import AuthorizedSession\n",
        "import gspread\n",
        "import pandas as pd\n",
        "from google.cloud import bigquery\n",
        "import pandas_gbq"
      ]
    },
    {
      "cell_type": "code",
      "source": [
        "scope = ['https://www.googleapis.com/auth/spreadsheets']\n",
        "\n",
        "# adding the credential file to allow gsheet access from google API\n",
        "credentials = service_account.Credentials.from_service_account_file('/content/gsheet-viewer.json', scopes = scope)\n",
        "\n",
        "# specify the spreadsheet that we worked on\n",
        "gc = gspread.Client(auth=credentials)\n",
        "gc.session = AuthorizedSession(credentials)"
      ],
      "metadata": {
        "id": "T2OeXZHlqx3m"
      },
      "execution_count": 32,
      "outputs": []
    },
    {
      "cell_type": "code",
      "source": [
        "# add and open google sheet using the google sheet ID\n",
        "sheet_key = '1lNDPMgXggHkyGTtJR4RNlCHtVQa2aUYZOF19K2RKTBo'\n",
        "sheet = gc.open_by_key(sheet_key)"
      ],
      "metadata": {
        "id": "qbX0azN6rSxb"
      },
      "execution_count": 38,
      "outputs": []
    },
    {
      "cell_type": "code",
      "source": [
        "# E for Extract\n",
        "# access the worksheet\n",
        "worksheet_name = 'data'\n",
        "worksheet = sheet.worksheet(worksheet_name)\n",
        "\n",
        "# store data into sheet_data variable\n",
        "sheet_data = worksheet.get_all_records()"
      ],
      "metadata": {
        "id": "VUqzOkhZtnkL"
      },
      "execution_count": 43,
      "outputs": []
    },
    {
      "cell_type": "code",
      "source": [
        "# store data into pandas\n",
        "df = pd.DataFrame(sheet_data)\n",
        "\n",
        "# time for T, transform (just a little, lol)\n",
        "# column name formatting\n",
        "df.columns = ['invoice_number',\n",
        "              'customer_id',\n",
        "              'customer_gender',\n",
        "              'customer_age',\n",
        "              'product_category',\n",
        "              'product_quantity',\n",
        "              'total_price',\n",
        "              'payment_method',\n",
        "              'invoice_date',\n",
        "              'shopping_mall_name']"
      ],
      "metadata": {
        "id": "3XX9LUTmuZ7z"
      },
      "execution_count": 55,
      "outputs": []
    },
    {
      "cell_type": "code",
      "source": [
        "# time for L in ETL, load!\n",
        "# load the data to BigQuery\n",
        "\n",
        "# enter Google Cloud project ID\n",
        "project_id = 'sound-chalice-349712'\n",
        "\n",
        "# enter BigQuery dataset and create a table name\n",
        "dataset_name = 'halyusa_data'\n",
        "table_name = 'customer_shopping_data'\n",
        "\n",
        "# construct the full table ID\n",
        "table_id = f'{project_id}.{dataset_name}.{table_name}'\n",
        "\n",
        "# push data to BQ using to_gbq\n",
        "pandas_gbq.to_gbq(df, table_id, project_id=project_id, if_exists='replace')\n",
        "\n",
        "print(\"Data successfully loaded to BQ\")"
      ],
      "metadata": {
        "colab": {
          "base_uri": "https://localhost:8080/"
        },
        "id": "sH_kOOFv9QVI",
        "outputId": "e2982359-5585-4d3d-9a67-fca6f72e3250"
      },
      "execution_count": 56,
      "outputs": [
        {
          "output_type": "stream",
          "name": "stderr",
          "text": [
            "100%|██████████| 1/1 [00:00<00:00, 4337.44it/s]"
          ]
        },
        {
          "output_type": "stream",
          "name": "stdout",
          "text": [
            "Data successfully loaded to BQ\n"
          ]
        },
        {
          "output_type": "stream",
          "name": "stderr",
          "text": [
            "\n"
          ]
        }
      ]
    }
  ]
}